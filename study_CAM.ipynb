{
  "nbformat": 4,
  "nbformat_minor": 0,
  "metadata": {
    "colab": {
      "name": "study_CAM.ipynb",
      "private_outputs": true,
      "provenance": [],
      "collapsed_sections": [],
      "authorship_tag": "ABX9TyMNUPWR1o6L/+HlCD6yGXVJ",
      "include_colab_link": true
    },
    "kernelspec": {
      "name": "python3",
      "display_name": "Python 3"
    },
    "language_info": {
      "name": "python"
    }
  },
  "cells": [
    {
      "cell_type": "markdown",
      "metadata": {
        "id": "view-in-github",
        "colab_type": "text"
      },
      "source": [
        "<a href=\"https://colab.research.google.com/github/kyugorithm/TIL/blob/main/study_CAM.ipynb\" target=\"_parent\"><img src=\"https://colab.research.google.com/assets/colab-badge.svg\" alt=\"Open In Colab\"/></a>"
      ]
    },
    {
      "cell_type": "markdown",
      "metadata": {
        "id": "yV51wduk0Jz1"
      },
      "source": [
        "코랩 장시간 세션 유지 (https://naenjun.tistory.com/18)"
      ]
    },
    {
      "cell_type": "code",
      "metadata": {
        "id": "EdelRZd5qGvP"
      },
      "source": [
        "import os\n",
        "from google.colab import drive \n",
        "!nvidia-smi\n",
        "drive.mount('/content/gdrive/')"
      ],
      "execution_count": null,
      "outputs": []
    },
    {
      "cell_type": "markdown",
      "metadata": {
        "id": "t44Cw8QE1tXj"
      },
      "source": [
        "작업경로 pytorch-CycleGAN-Unet-D 로 변경"
      ]
    },
    {
      "cell_type": "code",
      "metadata": {
        "id": "AKf2ij5Kylqz"
      },
      "source": [
        "os.chdir('/content/gdrive/MyDrive/')\n",
        "root_dir = os.getcwd()\n",
        "print(root_dir)"
      ],
      "execution_count": null,
      "outputs": []
    },
    {
      "cell_type": "code",
      "metadata": {
        "id": "wSSBUD0d1QIA"
      },
      "source": [
        "import torch\n",
        "import torchvision\n",
        "from torchvision.transforms import transforms\n",
        "import torch.nn as nn\n",
        "import torch.nn.functional as F"
      ],
      "execution_count": null,
      "outputs": []
    },
    {
      "cell_type": "code",
      "metadata": {
        "id": "kdiOkVdJOhG6"
      },
      "source": [
        "transform = transforms.Compose([\n",
        "                    transforms.Resize(224),\n",
        "                    transforms.ToTensor(),\n",
        "                    transforms.Normalize((0.5, 0.5, 0.5), (0.5, 0.5, 0.5))\n",
        "\n",
        "])"
      ],
      "execution_count": null,
      "outputs": []
    },
    {
      "cell_type": "code",
      "metadata": {
        "id": "tKox0NAnPPSd"
      },
      "source": [
        "trainset = torchvision.datasets.STL10(root='./dataset', split = 'train', download = True, transform = transform)\n",
        "trainloader = torch.utils.data.DataLoader(trainset, batch_size = 64, shuffle = True)\n",
        "testset = torchvision.datasets.STL10(root='./dataset', split = 'test', download = True, transform = transform)\n",
        "testloader = torch.utils.data.DataLoader(testset, batch_size = 64, shuffle = True)"
      ],
      "execution_count": null,
      "outputs": []
    },
    {
      "cell_type": "code",
      "metadata": {
        "id": "VOtZctpgPvT6"
      },
      "source": [
        "import matplotlib.pyplot as plt\n",
        "import numpy as np\n",
        "\n",
        "def imshow(img):\n",
        "  img = img / 2 + 0.5\n",
        "  npimg = img.numpy()\n",
        "  plt.imshow(np.transpose(npimg,(1,2,0)))\n",
        "\n",
        "dataiter = iter(trainloader)\n",
        "images, labels = dataiter.next()\n",
        "imshow(torchvision.utils.make_grid(images))\n",
        "# print(' '.join('%5s' % classes[labels[i] for i in range(4)]))"
      ],
      "execution_count": null,
      "outputs": []
    },
    {
      "cell_type": "code",
      "metadata": {
        "id": "CtzrlLqbTnHD"
      },
      "source": [
        "class Net(nn.Module):\n",
        "  def __init__(self):\n",
        "    super(Net, self).__init__()\n",
        "    self.conv = nn.Sequential([\n",
        "                               nn.Conv2d(3,    64, 3, padding=1), nn.LeakyReLU(0.2),\n",
        "                               nn.Conv2d(64,   64, 3, padding=1), nn.LeakyReLU(0.2),\n",
        "                               nn.MaxPool2d(2,2),\n",
        "                               nn.Conv2d(64,  128, 3, padding=1), nn.LeakyReLU(0.2),\n",
        "                               nn.Conv2d(128, 128, 3, padding=1), nn.LeakyReLU(0.2),\n",
        "                               nn.MaxPool2d(2,2),\n",
        "                               nn.Conv2d(128, 256, 3, padding=1), nn.LeakyReLU(0.2),\n",
        "                               nn.Conv2d(256, 256, 3, padding=1), nn.LeakyReLU(0.2),\n",
        "                               nn.MaxPool2d(2,2),\n",
        "                               nn.Conv2d(256, 512, 3, padding=1), nn.LeakyReLU(0.2),\n",
        "                               nn.Conv2d(512, 512, 3, padding=1), nn.LeakyReLU(0.2),\n",
        "                               nn.Conv2d(512, 512, 3, padding=1), nn.LeakyReLU(0.2),\n",
        "                               nn.MaxPool2d(2,2),\n",
        "                               nn.Conv2d(512, 512, 3, padding=1), nn.LeakyReLU(0.2),\n",
        "                               nn.Conv2d(512, 512, 3, padding=1), nn.LeakyReLU(0.2),\n",
        "                               nn.Conv2d(512, 512, 3, padding=1), nn.LeakyReLU(0.2),\n",
        "                               nn.MaxPool2d(2,2),\n",
        "\n",
        "    ])\n",
        "\n",
        "    self.avg_pool = nn.AvgPool2d(7)\n",
        "    self.classifier = nn.Linear(512,10)\n",
        "    self.fc1 = nn.Linear(512*2*2, 4096)\n",
        "    self.fc2 = nn.Linear(4096, 4096)\n",
        "    self.fc3 = nn.Linear(4096, 10)\n",
        "\n",
        "  def forward(self, x):\n",
        "    "
      ],
      "execution_count": null,
      "outputs": []
    }
  ]
}