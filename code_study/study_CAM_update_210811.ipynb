{
  "nbformat": 4,
  "nbformat_minor": 0,
  "metadata": {
    "colab": {
      "name": "study_CAM.ipynb",
      "private_outputs": true,
      "provenance": [],
      "collapsed_sections": [],
      "machine_shape": "hm",
      "authorship_tag": "ABX9TyOQUqaCYtj34YCFRP7XRRzg",
      "include_colab_link": true
    },
    "kernelspec": {
      "name": "python3",
      "display_name": "Python 3"
    },
    "language_info": {
      "name": "python"
    },
    "accelerator": "GPU"
  },
  "cells": [
    {
      "cell_type": "markdown",
      "metadata": {
        "id": "view-in-github",
        "colab_type": "text"
      },
      "source": [
        "<a href=\"https://colab.research.google.com/github/kyugorithm/TIL/blob/main/study_CAM.ipynb\" target=\"_parent\"><img src=\"https://colab.research.google.com/assets/colab-badge.svg\" alt=\"Open In Colab\"/></a>"
      ]
    },
    {
      "cell_type": "markdown",
      "metadata": {
        "id": "yV51wduk0Jz1"
      },
      "source": [
        "코랩 장시간 세션 유지 (https://naenjun.tistory.com/18)"
      ]
    },
    {
      "cell_type": "code",
      "metadata": {
        "id": "EdelRZd5qGvP"
      },
      "source": [
        "import os\n",
        "from google.colab import drive \n",
        "!nvidia-smi\n",
        "drive.mount('/content/gdrive/')"
      ],
      "execution_count": null,
      "outputs": []
    },
    {
      "cell_type": "markdown",
      "metadata": {
        "id": "t44Cw8QE1tXj"
      },
      "source": [
        "작업경로 pytorch-CycleGAN-Unet-D 로 변경"
      ]
    },
    {
      "cell_type": "code",
      "metadata": {
        "id": "AKf2ij5Kylqz"
      },
      "source": [
        "os.chdir('/content/gdrive/MyDrive/')\n",
        "root_dir = os.getcwd()\n",
        "print(root_dir)"
      ],
      "execution_count": null,
      "outputs": []
    },
    {
      "cell_type": "code",
      "metadata": {
        "id": "wSSBUD0d1QIA"
      },
      "source": [
        "import torch\n",
        "import torchvision\n",
        "import torch.nn.functional as F\n",
        "import torchvision.transforms as transforms\n",
        "import torch.nn as nn"
      ],
      "execution_count": null,
      "outputs": []
    },
    {
      "cell_type": "code",
      "metadata": {
        "id": "kdiOkVdJOhG6"
      },
      "source": [
        "transform = transforms.Compose([\n",
        "                                transforms.Resize(224),\n",
        "                                transforms.ToTensor(),\n",
        "                                transforms.Normalize((0.5, 0.5, 0.5), (0.5, 0.5, 0.5))\n",
        "\n",
        "])"
      ],
      "execution_count": null,
      "outputs": []
    },
    {
      "cell_type": "code",
      "metadata": {
        "id": "tKox0NAnPPSd"
      },
      "source": [
        "trainset    = torchvision.datasets.STL10(root = './dataset', split = 'train', transform=transform)\n",
        "trainloader = torch.utils.data.DataLoader(trainset, batch_size = 64, shuffle = True)\n",
        "testset    = torchvision.datasets.STL10(root = './dataset', split = 'test', transform=transform)\n",
        "testloader = torch.utils.data.DataLoader(testset, batch_size = 64, shuffle = True)"
      ],
      "execution_count": null,
      "outputs": []
    },
    {
      "cell_type": "code",
      "metadata": {
        "id": "VOtZctpgPvT6"
      },
      "source": [
        "import matplotlib.pyplot as plt\n",
        "import numpy as np\n",
        "classes = ('airplance', 'bird', 'car', 'cat', 'deer', 'dog', 'horse', 'monkey', 'ship', 'truck')\n",
        "\n",
        "def imshow(img):\n",
        "  img = 0.5 * img + 0.5\n",
        "  npimg = img.numpy()\n",
        "  plt.imshow(np.transpose(npimg,(1,2,0)))\n",
        "\n",
        "dataiter = iter(trainloader)\n",
        "images, labels = dataiter.next()\n",
        "imshow(torchvision.utils.make_grid(images))\n",
        "# print(' '.join('%5s' % classes[labels[i] for i in range(4)]))"
      ],
      "execution_count": null,
      "outputs": []
    },
    {
      "cell_type": "code",
      "metadata": {
        "id": "CtzrlLqbTnHD"
      },
      "source": [
        "class Net(nn.Module):\n",
        "    def __init__(self):\n",
        "        super(Net, self).__init__()\n",
        "        self.conv = nn.Sequential(\n",
        "            #3 224 128\n",
        "            nn.Conv2d(3, 64, 3, padding=1),nn.LeakyReLU(0.2),nn.BatchNorm2d(64),\n",
        "            nn.Conv2d(64, 64, 3, padding=1),nn.LeakyReLU(0.2),nn.BatchNorm2d(64),\n",
        "            nn.MaxPool2d(2, 2),\n",
        "            #64 112 64\n",
        "            nn.Conv2d(64, 128, 3, padding=1),nn.LeakyReLU(0.2),nn.BatchNorm2d(128),\n",
        "            nn.Conv2d(128, 128, 3, padding=1),nn.LeakyReLU(0.2),nn.BatchNorm2d(128),\n",
        "            nn.MaxPool2d(2, 2),\n",
        "            #128 56 32\n",
        "            nn.Conv2d(128, 256, 3, padding=1),nn.LeakyReLU(0.2),nn.BatchNorm2d(256),\n",
        "            nn.Conv2d(256, 256, 3, padding=1),nn.LeakyReLU(0.2),nn.BatchNorm2d(256),\n",
        "            nn.Conv2d(256, 256, 3, padding=1),nn.LeakyReLU(0.2),nn.BatchNorm2d(256),\n",
        "            nn.MaxPool2d(2, 2),\n",
        "            #256 28 16\n",
        "            nn.Conv2d(256, 512, 3, padding=1),nn.LeakyReLU(0.2),nn.BatchNorm2d(512),\n",
        "            nn.Conv2d(512, 512, 3, padding=1),nn.LeakyReLU(0.2),nn.BatchNorm2d(512),\n",
        "            nn.Conv2d(512, 512, 3, padding=1),nn.LeakyReLU(0.2),nn.BatchNorm2d(512),\n",
        "            nn.MaxPool2d(2, 2),\n",
        "            #512 14 8\n",
        "            nn.Conv2d(512, 512, 3, padding=1),nn.LeakyReLU(0.2),nn.BatchNorm2d(512),\n",
        "            nn.Conv2d(512, 512, 3, padding=1),nn.LeakyReLU(0.2),nn.BatchNorm2d(512),\n",
        "            nn.Conv2d(512, 512, 3, padding=1),nn.LeakyReLU(0.2),nn.BatchNorm2d(512),\n",
        "            nn.MaxPool2d(2, 2)\n",
        "        )\n",
        "        #512 7 4\n",
        "\n",
        "        self.avg_pool = nn.AvgPool2d(7)\n",
        "        #512 1 1\n",
        "        self.classifier = nn.Linear(512, 10)\n",
        "        \"\"\"\n",
        "        self.fc1 = nn.Linear(512*2*2,4096)\n",
        "        self.fc2 = nn.Linear(4096,4096)\n",
        "        self.fc3 = nn.Linear(4096,10)\n",
        "        \"\"\"\n",
        "\n",
        "    def forward(self, x):\n",
        "\n",
        "        #print(x.size())\n",
        "        features = self.conv(x)\n",
        "        #print(features.size())\n",
        "        x = self.avg_pool(features)\n",
        "        #print(avg_pool.size())\n",
        "        x = x.view(features.size(0), -1)\n",
        "        #print(flatten.size())\n",
        "        x = self.classifier(x)\n",
        "        #x = self.softmax(x)\n",
        "        return x, features\n",
        "\n",
        "device = torch.device(\"cuda:0\" if torch.cuda.is_available() else \"cpu\")\n",
        "\n",
        "\n",
        "\n",
        "\n",
        "net = Net()\n",
        "net = net.to(device)\n",
        "param = list(net.parameters())\n",
        "print(len(param))\n",
        "for i in param:\n",
        "    print(i.shape)\n",
        "#print(param[0].shape)"
      ],
      "execution_count": null,
      "outputs": []
    },
    {
      "cell_type": "code",
      "metadata": {
        "id": "hKKuZoPqaURC"
      },
      "source": [
        "classes =  ('airplance', 'bird', 'car', 'cat', 'deer', 'dog', 'horse', 'monkey', 'ship', 'truck')\n",
        "import torch.optim as optim\n",
        "\n",
        "criterion = nn.CrossEntropyLoss().cuda()\n",
        "optimizer = optim.Adam(net.parameters(),lr=0.0001)\n"
      ],
      "execution_count": null,
      "outputs": []
    },
    {
      "cell_type": "code",
      "metadata": {
        "id": "rzO4fK0rP6XU"
      },
      "source": [
        "for epoch in range(100):  # loop over the dataset multiple times\n",
        "    running_loss = 0.0\n",
        "    for i, data in enumerate(trainloader, 0):\n",
        "        # get the inputs\n",
        "        inputs, labels = data\n",
        "        inputs, labels = inputs.to(device), labels.to(device)\n",
        "        # zero the parameter gradients\n",
        "        optimizer.zero_grad()\n",
        "\n",
        "        #print(inputs.shape)\n",
        "        # forward + backward + optimize\n",
        "        outputs,f = net(inputs)\n",
        "        #print(outputs.shape)\n",
        "        #print(labels.shape)\n",
        "        loss = criterion(outputs, labels)\n",
        "        loss.backward()\n",
        "        optimizer.step()\n",
        "\n",
        "        running_loss += loss.item()\n",
        "    print('[epoch:%d] loss: %.3f' % (epoch + 1, running_loss / (i+1)))\n",
        "    running_loss = 0.0\n",
        "\n",
        "print('Finished Training')\n",
        "\n",
        "class_correct = list(0. for i in range(10))\n",
        "class_total = list(0. for i in range(10))\n",
        "with torch.no_grad():\n",
        "    for data in testloader:\n",
        "        images, labels = data\n",
        "        images = images.cuda()\n",
        "        labels = labels.cuda()\n",
        "        outputs,_ = net(images)\n",
        "        _, predicted = torch.max(outputs, 1)\n",
        "        c = (predicted == labels).squeeze()\n",
        "        for i in range(4):\n",
        "            label = labels[i]\n",
        "            class_correct[label] += c[i].item()\n",
        "            class_total[label] += 1\n",
        "\n",
        "\n",
        "for i in range(10):\n",
        "    print('Accuracy of %5s : %2d %%' % (\n",
        "        classes[i], 100 * class_correct[i] / class_total[i]))"
      ],
      "execution_count": null,
      "outputs": []
    },
    {
      "cell_type": "code",
      "metadata": {
        "id": "GV2642fsYyQp"
      },
      "source": [
        "class_correct = list(0. for i in range(10))\n",
        "class_total = list(0. for i in range(10))\n",
        "with torch.no_grad():\n",
        "    for data in testloader:\n",
        "        images, labels = data\n",
        "        images = images.cuda()\n",
        "        labels = labels.cuda()\n",
        "        outputs, f = net(images)\n",
        "        _, predicted = torch.max(outputs, 1)\n",
        "        c = (predicted == labels).squeeze()\n",
        "        for i in range(4):\n",
        "            label = labels[i]\n",
        "            class_correct[label] += c[i].item()\n",
        "            class_total[label] += 1\n",
        "\n",
        "\n",
        "for i in range(10):\n",
        "    print('Accuracy of %5s : %2d %%' % (\n",
        "        classes[i], 100 * class_correct[i] / class_total[i]))"
      ],
      "execution_count": null,
      "outputs": []
    },
    {
      "cell_type": "code",
      "metadata": {
        "id": "igM-k73FjXMx"
      },
      "source": [
        ""
      ],
      "execution_count": null,
      "outputs": []
    }
  ]
}
